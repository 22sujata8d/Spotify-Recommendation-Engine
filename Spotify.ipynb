{
 "cells": [
  {
   "cell_type": "code",
   "execution_count": 1,
   "metadata": {},
   "outputs": [],
   "source": [
    "%matplotlib notebook\n",
    "import matplotlib.pyplot as plt\n",
    "\n",
    "import numpy as np\n",
    "import pandas as pd\n",
    "\n",
    "import sympy\n",
    "from sympy import Matrix, init_printing\n",
    "\n",
    "from scipy.sparse.linalg import svds,eigs\n",
    "\n",
    "from sklearn.feature_extraction.text import CountVectorizer\n",
    "from sklearn.metrics import mean_squared_error\n",
    "from sklearn.model_selection import train_test_split\n",
    "from sklearn.metrics.pairwise import cosine_similarity\n",
    "from sklearn.metrics.pairwise import cosine_distances\n",
    "from sklearn.metrics import pairwise_distances\n",
    "\n",
    "from time import time\n",
    "\n",
    "import surprise\n",
    "from surprise import SVD\n",
    "from surprise import Dataset\n",
    "from surprise.model_selection import cross_validate\n",
    "\n",
    "init_printing()"
   ]
  },
  {
   "cell_type": "code",
   "execution_count": 2,
   "metadata": {},
   "outputs": [],
   "source": [
    "def index_to_instance(df,index=None):\n",
    "    if index:\n",
    "        return XYZ(df)[index][1]\n",
    "    else:\n",
    "        return XYZ(df)\n",
    "def XYZ(df):\n",
    "    return sorted(list(zip(list(df.index.codes[0].data),list(df.index.levels[0].array))))\n",
    "def value_to_index_map(array):\n",
    "    array1 = zip(array,range(len(array)))\n",
    "    return array1"
   ]
  },
  {
   "cell_type": "code",
   "execution_count": 17,
   "metadata": {},
   "outputs": [],
   "source": [
    "class RecSysContentBased():\n",
    "    def __init__(self):\n",
    "        pass\n",
    "    def fit(self,train):\n",
    "        self.train_set = train\n",
    "        df1 = cosine_similarity(train)\n",
    "        self.similarity = df1\n",
    "        self.distances = pairwise_distances(train,metric='euclidean')\n",
    "    def evaluate(self,user):\n",
    "        d = sorted(value_to_index_map(self.distances[user]))\n",
    "        print(d)\n",
    "        return list(index_to_instance(self.train_set,d[i][1]) for i in range(len(d)))\n",
    "    def predict(self):\n",
    "        pass\n",
    "    def test(self,testset):\n",
    "        pass\n",
    "    "
   ]
  },
  {
   "cell_type": "code",
   "execution_count": 11,
   "metadata": {},
   "outputs": [],
   "source": [
    "model = RecSysContentBased()\n"
   ]
  },
  {
   "cell_type": "code",
   "execution_count": 12,
   "metadata": {},
   "outputs": [],
   "source": [
    "np.random.seed(1)"
   ]
  },
  {
   "cell_type": "code",
   "execution_count": 13,
   "metadata": {},
   "outputs": [],
   "source": [
    "w = \"qwertyuiopasdfghjklzxcvbnm\""
   ]
  },
  {
   "cell_type": "code",
   "execution_count": 14,
   "metadata": {},
   "outputs": [],
   "source": [
    "train = pd.DataFrame(np.random.randn(26,50))\n",
    "train.index = [list(w)]"
   ]
  },
  {
   "cell_type": "code",
   "execution_count": 43,
   "metadata": {},
   "outputs": [
    {
     "data": {
      "text/plain": [
       "MultiIndex(levels=[['e', 'h', 'l', 'o']],\n",
       "           codes=[[1, 0, 2, 3]])"
      ]
     },
     "execution_count": 43,
     "metadata": {},
     "output_type": "execute_result"
    }
   ],
   "source": [
    "A = pd.DataFrame(np.random.randn(4,2))\n",
    "A.index = ['h e l o'.split(' ')]\n",
    "A"
   ]
  },
  {
   "cell_type": "code",
   "execution_count": 15,
   "metadata": {},
   "outputs": [],
   "source": [
    "model.fit(train)"
   ]
  },
  {
   "cell_type": "code",
   "execution_count": 16,
   "metadata": {},
   "outputs": [
    {
     "name": "stdout",
     "output_type": "stream",
     "text": [
      "[(0.0, 1), (7.306019863613199, 16), (7.395636885548911, 5), (7.704989210484981, 21), (7.710644461787914, 25), (7.9397938648414295, 12), (8.197515881045817, 19), (8.280594332831667, 3), (8.37692672434156, 24), (8.47324565388931, 2), (8.59168373061565, 9), (8.625026218429008, 17), (8.86561142209829, 8), (8.989000391884632, 0), (9.008214831460636, 22), (9.009691688370886, 18), (9.383269126207303, 13), (9.50125695752467, 6), (9.552747323085569, 10), (9.67897905295402, 14), (9.786878709359785, 23), (9.845251424981102, 7), (10.243872354987145, 11), (10.347373751522337, 15), (10.460654565092929, 4), (11.000486478954194, 20)]\n"
     ]
    },
    {
     "data": {
      "text/plain": [
       "['x',\n",
       " 'a',\n",
       " 'n',\n",
       " 'w',\n",
       " 't',\n",
       " 'z',\n",
       " 'e',\n",
       " 'm',\n",
       " 'f',\n",
       " 'v',\n",
       " 'q',\n",
       " 'd',\n",
       " 'h',\n",
       " [(0, 'k'),\n",
       "  (1, 'x'),\n",
       "  (2, 'v'),\n",
       "  (3, 'm'),\n",
       "  (4, 'c'),\n",
       "  (5, 'n'),\n",
       "  (6, 'o'),\n",
       "  (7, 'p'),\n",
       "  (8, 'h'),\n",
       "  (9, 'q'),\n",
       "  (10, 'r'),\n",
       "  (11, 's'),\n",
       "  (12, 'z'),\n",
       "  (13, 'y'),\n",
       "  (14, 'i'),\n",
       "  (15, 'j'),\n",
       "  (16, 'a'),\n",
       "  (17, 'd'),\n",
       "  (18, 'l'),\n",
       "  (19, 'e'),\n",
       "  (20, 'g'),\n",
       "  (21, 'w'),\n",
       "  (22, 'b'),\n",
       "  (23, 'u'),\n",
       "  (24, 'f'),\n",
       "  (25, 't')],\n",
       " 'b',\n",
       " 'l',\n",
       " 'y',\n",
       " 'o',\n",
       " 'r',\n",
       " 'i',\n",
       " 'u',\n",
       " 'p',\n",
       " 's',\n",
       " 'j',\n",
       " 'c',\n",
       " 'g']"
      ]
     },
     "execution_count": 16,
     "metadata": {},
     "output_type": "execute_result"
    }
   ],
   "source": [
    "model.evaluate(1)"
   ]
  },
  {
   "cell_type": "code",
   "execution_count": null,
   "metadata": {},
   "outputs": [],
   "source": []
  }
 ],
 "metadata": {
  "kernelspec": {
   "display_name": "Python 3",
   "language": "python",
   "name": "python3"
  },
  "language_info": {
   "codemirror_mode": {
    "name": "ipython",
    "version": 3
   },
   "file_extension": ".py",
   "mimetype": "text/x-python",
   "name": "python",
   "nbconvert_exporter": "python",
   "pygments_lexer": "ipython3",
   "version": "3.7.3"
  }
 },
 "nbformat": 4,
 "nbformat_minor": 2
}
